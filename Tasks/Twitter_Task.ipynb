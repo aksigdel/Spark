{
  "nbformat": 4,
  "nbformat_minor": 0,
  "metadata": {
    "colab": {
      "provenance": []
    },
    "kernelspec": {
      "name": "python3",
      "display_name": "Python 3"
    },
    "language_info": {
      "name": "python"
    }
  },
  "cells": [
    {
      "cell_type": "code",
      "execution_count": 1,
      "metadata": {
        "colab": {
          "base_uri": "https://localhost:8080/"
        },
        "id": "mFuC9ONbzNZZ",
        "outputId": "d7c421ed-2292-457a-ef64-adfa4be9b4cd"
      },
      "outputs": [
        {
          "output_type": "stream",
          "name": "stdout",
          "text": [
            "Looking in indexes: https://pypi.org/simple, https://us-python.pkg.dev/colab-wheels/public/simple/\n",
            "Collecting pyspark\n",
            "  Downloading pyspark-3.3.0.tar.gz (281.3 MB)\n",
            "\u001b[K     |████████████████████████████████| 281.3 MB 46 kB/s \n",
            "\u001b[?25hCollecting py4j==0.10.9.5\n",
            "  Downloading py4j-0.10.9.5-py2.py3-none-any.whl (199 kB)\n",
            "\u001b[K     |████████████████████████████████| 199 kB 50.4 MB/s \n",
            "\u001b[?25hBuilding wheels for collected packages: pyspark\n",
            "  Building wheel for pyspark (setup.py) ... \u001b[?25l\u001b[?25hdone\n",
            "  Created wheel for pyspark: filename=pyspark-3.3.0-py2.py3-none-any.whl size=281764026 sha256=8dd797cf89652773064c991becad6f7a483276fe7e32661431fe503cdd66c850\n",
            "  Stored in directory: /root/.cache/pip/wheels/7a/8e/1b/f73a52650d2e5f337708d9f6a1750d451a7349a867f928b885\n",
            "Successfully built pyspark\n",
            "Installing collected packages: py4j, pyspark\n",
            "Successfully installed py4j-0.10.9.5 pyspark-3.3.0\n"
          ]
        }
      ],
      "source": [
        "pip install pyspark"
      ]
    },
    {
      "cell_type": "markdown",
      "source": [
        "Questions\n",
        "1. Find all the tweets by user\n",
        "2. Find how many tweets each user has\n",
        "3. Find all the persons mentioned on tweets\n",
        "4. Count how many times each person is mentioned\n",
        "5. Find the 10 most mentioned persons\n",
        "6. Find all the hashtags mentioned on a tweet\n",
        "7. Count how many times each hashtag is mentioned\n",
        "8. Find the 10 most popular Hashtags\n",
        "9. Find the top 5 countries which tweet the most."
      ],
      "metadata": {
        "id": "jRGMgT6yzcWa"
      }
    },
    {
      "cell_type": "code",
      "source": [
        "from pyspark.sql import SparkSession , functions as F\n",
        "spark = SparkSession.builder.appName('twitter').getOrCreate()"
      ],
      "metadata": {
        "id": "K1TEdqiIzdxd"
      },
      "execution_count": 2,
      "outputs": []
    },
    {
      "cell_type": "code",
      "source": [
        "from pyspark.sql.types import ArrayType, StringType"
      ],
      "metadata": {
        "id": "p5OcG8DD8khP"
      },
      "execution_count": 32,
      "outputs": []
    },
    {
      "cell_type": "code",
      "source": [
        "df_twitter = spark.read.format('json').load('sample_data/tweets.json')\n",
        "df_twitter.printSchema()\n",
        "df_twitter.show(5)"
      ],
      "metadata": {
        "colab": {
          "base_uri": "https://localhost:8080/"
        },
        "id": "VDnC1ztx0H9d",
        "outputId": "623a2bee-ea37-46ea-9fa5-409fc492984f"
      },
      "execution_count": 11,
      "outputs": [
        {
          "output_type": "stream",
          "name": "stdout",
          "text": [
            "root\n",
            " |-- country: string (nullable = true)\n",
            " |-- id: string (nullable = true)\n",
            " |-- place: string (nullable = true)\n",
            " |-- text: string (nullable = true)\n",
            " |-- user: string (nullable = true)\n",
            "\n",
            "+-------------+------------------+---------+--------------------+------------------+\n",
            "|      country|                id|    place|                text|              user|\n",
            "+-------------+------------------+---------+--------------------+------------------+\n",
            "|        India|572692378957430785|   Orissa|@always_nidhi @Yo...|   Srkian_nishu :)|\n",
            "|United States|572575240615796737|Manhattan|@OnlyDancers Bell...|TagineDiningGlobal|\n",
            "|United States|572575243883036672|Claremont|1/ \"Without the a...|       Daniel Beer|\n",
            "|United States|572575252020109313|   Vienna|idk why people ha...|  someone actually|\n",
            "|United States|572575274539356160|   Boston|Taste of Iceland!...|    BostonAttitude|\n",
            "+-------------+------------------+---------+--------------------+------------------+\n",
            "only showing top 5 rows\n",
            "\n"
          ]
        }
      ]
    },
    {
      "cell_type": "markdown",
      "source": [
        "##1. Find all the tweets by user"
      ],
      "metadata": {
        "id": "gN8b9YjF0gv5"
      }
    },
    {
      "cell_type": "code",
      "source": [
        "user = 'BostonAttitude'\n",
        "#user = input('Enter user name to see their tweets: ')\n",
        "df_twitter.filter(df_twitter['user']==user).show()"
      ],
      "metadata": {
        "colab": {
          "base_uri": "https://localhost:8080/"
        },
        "id": "Fz1jWSYH0NKg",
        "outputId": "29924380-9996-46c7-ff40-397d3c66a620"
      },
      "execution_count": 12,
      "outputs": [
        {
          "output_type": "stream",
          "name": "stdout",
          "text": [
            "+-------------+------------------+------+--------------------+--------------+\n",
            "|      country|                id| place|                text|          user|\n",
            "+-------------+------------------+------+--------------------+--------------+\n",
            "|United States|572575274539356160|Boston|Taste of Iceland!...|BostonAttitude|\n",
            "+-------------+------------------+------+--------------------+--------------+\n",
            "\n"
          ]
        }
      ]
    },
    {
      "cell_type": "markdown",
      "source": [
        "##2. Find how many tweets each user has"
      ],
      "metadata": {
        "id": "MNpmsmEi1OIn"
      }
    },
    {
      "cell_type": "code",
      "source": [
        "df_twitter.groupBy('user').count().orderBy('count', ascending=False).show(5)"
      ],
      "metadata": {
        "colab": {
          "base_uri": "https://localhost:8080/"
        },
        "id": "jEK-tf7d1SC7",
        "outputId": "38c912f4-55a7-4c15-a1c8-627f2cd01435"
      },
      "execution_count": 40,
      "outputs": [
        {
          "output_type": "stream",
          "name": "stdout",
          "text": [
            "+--------------------+-----+\n",
            "|                user|count|\n",
            "+--------------------+-----+\n",
            "|       #QuissyUpSoon|  258|\n",
            "|Inès Mendes Askiip ♥|  185|\n",
            "|           #4Rentinc|  100|\n",
            "|                  MV|   58|\n",
            "|    williampriceking|   46|\n",
            "+--------------------+-----+\n",
            "only showing top 5 rows\n",
            "\n"
          ]
        }
      ]
    },
    {
      "cell_type": "markdown",
      "source": [
        "##3.Find all the persons mentioned on tweets"
      ],
      "metadata": {
        "id": "ADTp_XHE2Q0E"
      }
    },
    {
      "cell_type": "code",
      "source": [
        "def generate_usermentioned(text):\n",
        "    return [item.lstrip('@') for item in text.split(' ') if item.startswith('@')]\n",
        "user_mentioned = df_twitter.withColumn('users_mentioned', F.udf(lambda text: generate_usermentioned(text), ArrayType(StringType()))('text'))\n",
        "user_mentioned.show()"
      ],
      "metadata": {
        "colab": {
          "base_uri": "https://localhost:8080/"
        },
        "id": "zGKJo_n_8Ztz",
        "outputId": "8b8d467d-95b8-4ea7-a51f-6fc1a35cac9c"
      },
      "execution_count": 34,
      "outputs": [
        {
          "output_type": "stream",
          "name": "stdout",
          "text": [
            "+--------------------+------------------+-----------------+--------------------+-------------------+--------------------+\n",
            "|             country|                id|            place|                text|               user|     users_mentioned|\n",
            "+--------------------+------------------+-----------------+--------------------+-------------------+--------------------+\n",
            "|               India|572692378957430785|           Orissa|@always_nidhi @Yo...|    Srkian_nishu :)|[always_nidhi, Yo...|\n",
            "|       United States|572575240615796737|        Manhattan|@OnlyDancers Bell...| TagineDiningGlobal|       [OnlyDancers]|\n",
            "|       United States|572575243883036672|        Claremont|1/ \"Without the a...|        Daniel Beer|                  []|\n",
            "|       United States|572575252020109313|           Vienna|idk why people ha...|   someone actually|                  []|\n",
            "|       United States|572575274539356160|           Boston|Taste of Iceland!...|     BostonAttitude|    [IcelandNatural]|\n",
            "|       United States|572647819401670656|          Suwanee|Know what you don...|Collin A. Zimmerman|                  []|\n",
            "|           Indonesia|572647831053312000|      Mario Riawa|Serasi ade haha @...|   Rinie Syamsuddin|           [AdeRais]|\n",
            "|           Indonesia|572647839521767425|    Bogor Selatan|Akhirnya bisa jug...|       Vinny Sylvia|                  []|\n",
            "|       United States|572647841220337664|          Norwalk|@BeezyDH_ it's li...|                Cas|          [BeezyDH_]|\n",
            "|       United States|572647842277396480|           Santee| obsessed with music|               kimo|                  []|\n",
            "|       United States|572631750163234816|        Tennessee|@blakeshelton You...|        Jeff Morton|      [blakeshelton]|\n",
            "|           Indonesia|572631763115249664|           Gambir|Happy Birhday Ps....|        Rensus Paul|                  []|\n",
            "|       United States|572606799712428033|   North Carolina|One night I'm ext...|                 KC|                  []|\n",
            "|       United States|572606799649640449|        Baltimore|@DjGregStreet STO...|      #QuissyUpSoon|      [DjGregStreet]|\n",
            "|       United States|572606809216663552|          Cypress|always getting in...|                 lo|                  []|\n",
            "|Negara Brunei Dar...|572606812081410048|           Brunei|nigga in paris ht...|           hafizzul|                  []|\n",
            "|       United States|572616136963055616|         Portland|Boutta fall aslee...|          Princess✨|                  []|\n",
            "|       United States|572616139987144704|         Kentucky|Canadians are tak...|       Nene Kiameso|                  []|\n",
            "|       United States|572616165786185728|         Wahpeton|Chicago takin ove...|              Chase|                  []|\n",
            "|      United Kingdom|572667477949353984|Ashton-under-Lyne|@traceyb65 I'm up...|             stefan|         [traceyb65]|\n",
            "+--------------------+------------------+-----------------+--------------------+-------------------+--------------------+\n",
            "only showing top 20 rows\n",
            "\n"
          ]
        }
      ]
    },
    {
      "cell_type": "markdown",
      "source": [
        "##4. Count how many times each person is mentioned"
      ],
      "metadata": {
        "id": "dr4Ojylf9eLg"
      }
    },
    {
      "cell_type": "code",
      "source": [
        "new_usermentioned_df= user_mentioned.select(F.explode('users_mentioned').alias('users_mentioned'))\n",
        "new_usermentioned_df = new_usermentioned_df.filter(new_usermentioned_df['users_mentioned'] != '')\n",
        "new_usermentioned_df.groupBy('users_mentioned').count().show(truncate=False)"
      ],
      "metadata": {
        "colab": {
          "base_uri": "https://localhost:8080/"
        },
        "id": "yQtdisTf9d7C",
        "outputId": "dcee9eb8-636f-43e9-f24c-518e9c8816e9"
      },
      "execution_count": 38,
      "outputs": [
        {
          "output_type": "stream",
          "name": "stdout",
          "text": [
            "+---------------+-----+\n",
            "|users_mentioned|count|\n",
            "+---------------+-----+\n",
            "|DjRockyUg      |1    |\n",
            "|TrillHD        |1    |\n",
            "|TimmysWell     |1    |\n",
            "|brookie_baldwin|1    |\n",
            "|TTTorrez       |2    |\n",
            "|boytoyjesse    |1    |\n",
            "|misstoriblack  |1    |\n",
            "|globalstatmusic|1    |\n",
            "|_fuckgio       |1    |\n",
            "|PedroIvoChianca|1    |\n",
            "|Cpiepz         |1    |\n",
            "|avachristy3    |1    |\n",
            "|lostbayouramble|1    |\n",
            "|bellahadid     |1    |\n",
            "|sawano_nZk's   |1    |\n",
            "|marIboros      |1    |\n",
            "|kochamjacksona |1    |\n",
            "|WIOD           |2    |\n",
            "|ShaelynCherie  |2    |\n",
            "|KevinAnex      |1    |\n",
            "+---------------+-----+\n",
            "only showing top 20 rows\n",
            "\n"
          ]
        }
      ]
    },
    {
      "cell_type": "markdown",
      "source": [
        "##5. Find the 10 most mentioned persons\n"
      ],
      "metadata": {
        "id": "U5TdoMJcCAd9"
      }
    },
    {
      "cell_type": "code",
      "source": [
        "new_usermentioned_df.groupBy('users_mentioned').count().orderBy('count', ascending=False).limit(10).show()"
      ],
      "metadata": {
        "colab": {
          "base_uri": "https://localhost:8080/"
        },
        "id": "QYlGhjAlCAK_",
        "outputId": "c2ce2528-97ea-41c8-a38c-658f8a7d5c64"
      },
      "execution_count": 39,
      "outputs": [
        {
          "output_type": "stream",
          "name": "stdout",
          "text": [
            "+---------------+-----+\n",
            "|users_mentioned|count|\n",
            "+---------------+-----+\n",
            "|    ShawnMendes|  189|\n",
            "|  HIITMANonDECK|  100|\n",
            "|officialdjjuice|   59|\n",
            "|         MAEJOR|   45|\n",
            "|    MR_JAYJONES|   41|\n",
            "|       MeekMill|   35|\n",
            "|MadisonElleBeer|   30|\n",
            "|              …|   28|\n",
            "|     DjLordDash|   27|\n",
            "|     NICKIMINAJ|   25|\n",
            "+---------------+-----+\n",
            "\n"
          ]
        }
      ]
    },
    {
      "cell_type": "markdown",
      "source": [
        "##6. Find all the hashtags mentioned on a tweet"
      ],
      "metadata": {
        "id": "GwgiqpG7ClDv"
      }
    },
    {
      "cell_type": "code",
      "source": [
        "def generate_hashtags(text):\n",
        "    return [item for item in text.split(' ') if item.startswith('#')]\n",
        "hashtags_mentioned = df_twitter.withColumn('hashtags_mentioned', F.udf(lambda text: generate_hashtags(text), ArrayType(StringType()))('text'))\n",
        "hashtags_mentioned.show()"
      ],
      "metadata": {
        "colab": {
          "base_uri": "https://localhost:8080/"
        },
        "id": "Ri25MnGnColo",
        "outputId": "82bb94f0-052c-4b30-94a8-1d32e1e96923"
      },
      "execution_count": 43,
      "outputs": [
        {
          "output_type": "stream",
          "name": "stdout",
          "text": [
            "+--------------------+------------------+-----------------+--------------------+-------------------+--------------------+\n",
            "|             country|                id|            place|                text|               user|  hashtags_mentioned|\n",
            "+--------------------+------------------+-----------------+--------------------+-------------------+--------------------+\n",
            "|               India|572692378957430785|           Orissa|@always_nidhi @Yo...|    Srkian_nishu :)|                  []|\n",
            "|       United States|572575240615796737|        Manhattan|@OnlyDancers Bell...| TagineDiningGlobal|                  []|\n",
            "|       United States|572575243883036672|        Claremont|1/ \"Without the a...|        Daniel Beer|                  []|\n",
            "|       United States|572575252020109313|           Vienna|idk why people ha...|   someone actually|                  []|\n",
            "|       United States|572575274539356160|           Boston|Taste of Iceland!...|     BostonAttitude|                  []|\n",
            "|       United States|572647819401670656|          Suwanee|Know what you don...|Collin A. Zimmerman|   [#shutUpAndDANCE]|\n",
            "|           Indonesia|572647831053312000|      Mario Riawa|Serasi ade haha @...|   Rinie Syamsuddin|[#SHINee, #AMBER(...|\n",
            "|           Indonesia|572647839521767425|    Bogor Selatan|Akhirnya bisa jug...|       Vinny Sylvia|                  []|\n",
            "|       United States|572647841220337664|          Norwalk|@BeezyDH_ it's li...|                Cas|                  []|\n",
            "|       United States|572647842277396480|           Santee| obsessed with music|               kimo|                  []|\n",
            "|       United States|572631750163234816|        Tennessee|@blakeshelton You...|        Jeff Morton|                  []|\n",
            "|           Indonesia|572631763115249664|           Gambir|Happy Birhday Ps....|        Rensus Paul| [#JR50, #flipagram]|\n",
            "|       United States|572606799712428033|   North Carolina|One night I'm ext...|                 KC|                  []|\n",
            "|       United States|572606799649640449|        Baltimore|@DjGregStreet STO...|      #QuissyUpSoon|[#DME, #ROADBOYZ,...|\n",
            "|       United States|572606809216663552|          Cypress|always getting in...|                 lo|                  []|\n",
            "|Negara Brunei Dar...|572606812081410048|           Brunei|nigga in paris ht...|           hafizzul|                  []|\n",
            "|       United States|572616136963055616|         Portland|Boutta fall aslee...|          Princess✨|                  []|\n",
            "|       United States|572616139987144704|         Kentucky|Canadians are tak...|       Nene Kiameso|                  []|\n",
            "|       United States|572616165786185728|         Wahpeton|Chicago takin ove...|              Chase|                  []|\n",
            "|      United Kingdom|572667477949353984|Ashton-under-Lyne|@traceyb65 I'm up...|             stefan|                  []|\n",
            "+--------------------+------------------+-----------------+--------------------+-------------------+--------------------+\n",
            "only showing top 20 rows\n",
            "\n"
          ]
        }
      ]
    },
    {
      "cell_type": "markdown",
      "source": [
        "##7. Count how many times each hashtag is mentioned"
      ],
      "metadata": {
        "id": "U6N_ByTYDlEe"
      }
    },
    {
      "cell_type": "code",
      "source": [
        "new_hashtags_mentioned= hashtags_mentioned.select(F.explode('hashtags_mentioned').alias('hashtags_mentioned'))\n",
        "new_hashtags_mentioned = new_hashtags_mentioned.filter(new_hashtags_mentioned['hashtags_mentioned'] != '')\n",
        "new_hashtags_mentioned.groupBy('hashtags_mentioned').count().show(truncate=False)"
      ],
      "metadata": {
        "colab": {
          "base_uri": "https://localhost:8080/"
        },
        "id": "_0_PCzabDkyN",
        "outputId": "f3571506-f8c1-4072-f255-b48657104d7f"
      },
      "execution_count": 45,
      "outputs": [
        {
          "output_type": "stream",
          "name": "stdout",
          "text": [
            "+--------------------+-----+\n",
            "|hashtags_mentioned  |count|\n",
            "+--------------------+-----+\n",
            "|#2NE1               |3    |\n",
            "|#musicLover         |1    |\n",
            "|#IBMCloud           |2    |\n",
            "|#flexrecordingstudio|1    |\n",
            "|#Hottest            |1    |\n",
            "|#VanessaBorn        |1    |\n",
            "|#happychappy        |1    |\n",
            "|#yyjevents          |1    |\n",
            "|#LittleLionMan      |1    |\n",
            "|#MBAMBADU           |7    |\n",
            "|#misheardlyrics     |1    |\n",
            "|#Indie              |2    |\n",
            "|#family             |1    |\n",
            "|#beautiful          |2    |\n",
            "|#Waiter             |1    |\n",
            "|#friend             |1    |\n",
            "|#recuseimitaçoes    |1    |\n",
            "|#airbnb             |1    |\n",
            "|#BØRNS              |1    |\n",
            "|#ChickCorea         |1    |\n",
            "+--------------------+-----+\n",
            "only showing top 20 rows\n",
            "\n"
          ]
        }
      ]
    },
    {
      "cell_type": "markdown",
      "source": [
        "##8. Find the 10 most popular Hashtags"
      ],
      "metadata": {
        "id": "ZBkv1gWp36r2"
      }
    },
    {
      "cell_type": "code",
      "source": [
        "new_hashtags_mentioned.groupBy('hashtags_mentioned').count().orderBy('count', ascending=False).limit(10).show()"
      ],
      "metadata": {
        "colab": {
          "base_uri": "https://localhost:8080/"
        },
        "id": "wWSDkF4S37Fh",
        "outputId": "77116bbb-0652-471f-f719-aadf746ca8c1"
      },
      "execution_count": 46,
      "outputs": [
        {
          "output_type": "stream",
          "name": "stdout",
          "text": [
            "+-------------------+-----+\n",
            "| hashtags_mentioned|count|\n",
            "+-------------------+-----+\n",
            "|               #DME|  253|\n",
            "|          #ROADBOYZ|  251|\n",
            "|             #music|  236|\n",
            "|             #Paris|  144|\n",
            "|#QuissyUpSoon🔥🔥💯|  129|\n",
            "|      #QuissyUpSoon|  120|\n",
            "| #Trippythursdaymia|  100|\n",
            "|             #Music|   84|\n",
            "|    #MaejorMeAndYou|   44|\n",
            "|              #IGGL|   41|\n",
            "+-------------------+-----+\n",
            "\n"
          ]
        }
      ]
    },
    {
      "cell_type": "markdown",
      "source": [
        "##9.Find the top 5 countries which tweet the most."
      ],
      "metadata": {
        "id": "Kst71Otl3hDA"
      }
    },
    {
      "cell_type": "code",
      "source": [
        "df_twitter.groupBy('country').count().orderBy('count', ascending=False).limit(5).show()"
      ],
      "metadata": {
        "colab": {
          "base_uri": "https://localhost:8080/"
        },
        "id": "jwhGbkOV3hgK",
        "outputId": "a23fd88f-20b8-4a50-d70d-7b474c40e387"
      },
      "execution_count": 13,
      "outputs": [
        {
          "output_type": "stream",
          "name": "stdout",
          "text": [
            "+--------------+-----+\n",
            "|       country|count|\n",
            "+--------------+-----+\n",
            "| United States| 4841|\n",
            "|        France|  737|\n",
            "|     Indonesia|  370|\n",
            "|United Kingdom|  365|\n",
            "|        Brasil|  256|\n",
            "+--------------+-----+\n",
            "\n"
          ]
        }
      ]
    }
  ]
}