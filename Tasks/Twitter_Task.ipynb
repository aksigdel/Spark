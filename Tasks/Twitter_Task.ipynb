{
  "nbformat": 4,
  "nbformat_minor": 0,
  "metadata": {
    "colab": {
      "provenance": []
    },
    "kernelspec": {
      "name": "python3",
      "display_name": "Python 3"
    },
    "language_info": {
      "name": "python"
    }
  },
  "cells": [
    {
      "cell_type": "code",
      "execution_count": 1,
      "metadata": {
        "colab": {
          "base_uri": "https://localhost:8080/"
        },
        "id": "mFuC9ONbzNZZ",
        "outputId": "c793b3d4-89db-43dd-9e43-bbc8be062ae8"
      },
      "outputs": [
        {
          "output_type": "stream",
          "name": "stdout",
          "text": [
            "Looking in indexes: https://pypi.org/simple, https://us-python.pkg.dev/colab-wheels/public/simple/\n",
            "Collecting pyspark\n",
            "  Downloading pyspark-3.3.0.tar.gz (281.3 MB)\n",
            "\u001b[K     |████████████████████████████████| 281.3 MB 51 kB/s \n",
            "\u001b[?25hCollecting py4j==0.10.9.5\n",
            "  Downloading py4j-0.10.9.5-py2.py3-none-any.whl (199 kB)\n",
            "\u001b[K     |████████████████████████████████| 199 kB 64.0 MB/s \n",
            "\u001b[?25hBuilding wheels for collected packages: pyspark\n",
            "  Building wheel for pyspark (setup.py) ... \u001b[?25l\u001b[?25hdone\n",
            "  Created wheel for pyspark: filename=pyspark-3.3.0-py2.py3-none-any.whl size=281764026 sha256=ec30a5fb93fb126dbb4bc18aa15122397e1b5e41b7d2789c4de57b93bd4b2f99\n",
            "  Stored in directory: /root/.cache/pip/wheels/7a/8e/1b/f73a52650d2e5f337708d9f6a1750d451a7349a867f928b885\n",
            "Successfully built pyspark\n",
            "Installing collected packages: py4j, pyspark\n",
            "Successfully installed py4j-0.10.9.5 pyspark-3.3.0\n"
          ]
        }
      ],
      "source": [
        "pip install pyspark"
      ]
    },
    {
      "cell_type": "markdown",
      "source": [
        "Questions\n",
        "1. Find all the tweets by user\n",
        "2. Find how many tweets each user has\n",
        "3. Find all the persons mentioned on tweets\n",
        "4. Count how many times each person is mentioned\n",
        "5. Find the 10 most mentioned persons\n",
        "6. Find all the hashtags mentioned on a tweet\n",
        "7. Count how many times each hashtag is mentioned\n",
        "8. Find the 10 most popular Hashtags\n",
        "9. Find the top 5 countries which tweet the most."
      ],
      "metadata": {
        "id": "jRGMgT6yzcWa"
      }
    },
    {
      "cell_type": "code",
      "source": [
        "from pyspark.sql import SparkSession , functions as F\n",
        "spark = SparkSession.builder.appName('twitter').getOrCreate()"
      ],
      "metadata": {
        "id": "K1TEdqiIzdxd"
      },
      "execution_count": 2,
      "outputs": []
    },
    {
      "cell_type": "code",
      "source": [
        "from pyspark.sql.types import ArrayType, StringType"
      ],
      "metadata": {
        "id": "p5OcG8DD8khP"
      },
      "execution_count": 3,
      "outputs": []
    },
    {
      "cell_type": "code",
      "source": [
        "df_twitter = spark.read.format('json').load('sample_data/tweets.json')\n",
        "df_twitter.printSchema()\n",
        "df_twitter.show(5)"
      ],
      "metadata": {
        "colab": {
          "base_uri": "https://localhost:8080/"
        },
        "id": "VDnC1ztx0H9d",
        "outputId": "8b9cc420-5b44-42ae-b9db-9974184c1f3c"
      },
      "execution_count": 4,
      "outputs": [
        {
          "output_type": "stream",
          "name": "stdout",
          "text": [
            "root\n",
            " |-- country: string (nullable = true)\n",
            " |-- id: string (nullable = true)\n",
            " |-- place: string (nullable = true)\n",
            " |-- text: string (nullable = true)\n",
            " |-- user: string (nullable = true)\n",
            "\n",
            "+-------------+------------------+---------+--------------------+------------------+\n",
            "|      country|                id|    place|                text|              user|\n",
            "+-------------+------------------+---------+--------------------+------------------+\n",
            "|        India|572692378957430785|   Orissa|@always_nidhi @Yo...|   Srkian_nishu :)|\n",
            "|United States|572575240615796737|Manhattan|@OnlyDancers Bell...|TagineDiningGlobal|\n",
            "|United States|572575243883036672|Claremont|1/ \"Without the a...|       Daniel Beer|\n",
            "|United States|572575252020109313|   Vienna|idk why people ha...|  someone actually|\n",
            "|United States|572575274539356160|   Boston|Taste of Iceland!...|    BostonAttitude|\n",
            "+-------------+------------------+---------+--------------------+------------------+\n",
            "only showing top 5 rows\n",
            "\n"
          ]
        }
      ]
    },
    {
      "cell_type": "code",
      "source": [
        "df_twitter.toPandas().to_csv('Output/twitter/twitter_data',index= False)"
      ],
      "metadata": {
        "id": "MiBewIuoyTmW"
      },
      "execution_count": 27,
      "outputs": []
    },
    {
      "cell_type": "markdown",
      "source": [
        "##1. Find all the tweets by user"
      ],
      "metadata": {
        "id": "gN8b9YjF0gv5"
      }
    },
    {
      "cell_type": "code",
      "source": [
        "user = 'BostonAttitude'\n",
        "#user = input('Enter user name to see their tweets: ')\n",
        "question1=df_twitter.filter(df_twitter['user']==user)\n",
        "question1.show()"
      ],
      "metadata": {
        "colab": {
          "base_uri": "https://localhost:8080/"
        },
        "id": "Fz1jWSYH0NKg",
        "outputId": "7575ea45-523d-40f5-b003-454861cabaa4"
      },
      "execution_count": 5,
      "outputs": [
        {
          "output_type": "stream",
          "name": "stdout",
          "text": [
            "+-------------+------------------+------+--------------------+--------------+\n",
            "|      country|                id| place|                text|          user|\n",
            "+-------------+------------------+------+--------------------+--------------+\n",
            "|United States|572575274539356160|Boston|Taste of Iceland!...|BostonAttitude|\n",
            "+-------------+------------------+------+--------------------+--------------+\n",
            "\n"
          ]
        }
      ]
    },
    {
      "cell_type": "code",
      "source": [
        "question1.toPandas().to_csv('Output/twitter/question1',index= False)"
      ],
      "metadata": {
        "id": "0JqrdHBAwxyT"
      },
      "execution_count": 6,
      "outputs": []
    },
    {
      "cell_type": "markdown",
      "source": [
        "##2. Find how many tweets each user has"
      ],
      "metadata": {
        "id": "MNpmsmEi1OIn"
      }
    },
    {
      "cell_type": "code",
      "source": [
        "question2=df_twitter.groupBy('user').count().orderBy('count', ascending=False)\n",
        "question2.show(5)"
      ],
      "metadata": {
        "colab": {
          "base_uri": "https://localhost:8080/"
        },
        "id": "jEK-tf7d1SC7",
        "outputId": "5150bfb7-306a-4830-9c70-2b0fe428fd6e"
      },
      "execution_count": 7,
      "outputs": [
        {
          "output_type": "stream",
          "name": "stdout",
          "text": [
            "+--------------------+-----+\n",
            "|                user|count|\n",
            "+--------------------+-----+\n",
            "|       #QuissyUpSoon|  258|\n",
            "|Inès Mendes Askiip ♥|  185|\n",
            "|           #4Rentinc|  100|\n",
            "|                  MV|   58|\n",
            "|    williampriceking|   46|\n",
            "+--------------------+-----+\n",
            "only showing top 5 rows\n",
            "\n"
          ]
        }
      ]
    },
    {
      "cell_type": "code",
      "source": [
        "question2.toPandas().to_csv('Output/twitter/question2',index= False)"
      ],
      "metadata": {
        "id": "FPBzTSoLxFE1"
      },
      "execution_count": 9,
      "outputs": []
    },
    {
      "cell_type": "markdown",
      "source": [
        "##3.Find all the persons mentioned on tweets"
      ],
      "metadata": {
        "id": "ADTp_XHE2Q0E"
      }
    },
    {
      "cell_type": "code",
      "source": [
        "def generate_usermentioned(text):\n",
        "    return [item.lstrip('@') for item in text.split(' ') if item.startswith('@')]\n",
        "user_mentioned = df_twitter.withColumn('users_mentioned', F.udf(lambda text: generate_usermentioned(text), ArrayType(StringType()))('text'))\n",
        "user_mentioned.show()"
      ],
      "metadata": {
        "colab": {
          "base_uri": "https://localhost:8080/"
        },
        "id": "zGKJo_n_8Ztz",
        "outputId": "881a2913-f97d-420e-93fe-c38dd295ad76"
      },
      "execution_count": 11,
      "outputs": [
        {
          "output_type": "stream",
          "name": "stdout",
          "text": [
            "+--------------------+------------------+-----------------+--------------------+-------------------+--------------------+\n",
            "|             country|                id|            place|                text|               user|     users_mentioned|\n",
            "+--------------------+------------------+-----------------+--------------------+-------------------+--------------------+\n",
            "|               India|572692378957430785|           Orissa|@always_nidhi @Yo...|    Srkian_nishu :)|[always_nidhi, Yo...|\n",
            "|       United States|572575240615796737|        Manhattan|@OnlyDancers Bell...| TagineDiningGlobal|       [OnlyDancers]|\n",
            "|       United States|572575243883036672|        Claremont|1/ \"Without the a...|        Daniel Beer|                  []|\n",
            "|       United States|572575252020109313|           Vienna|idk why people ha...|   someone actually|                  []|\n",
            "|       United States|572575274539356160|           Boston|Taste of Iceland!...|     BostonAttitude|    [IcelandNatural]|\n",
            "|       United States|572647819401670656|          Suwanee|Know what you don...|Collin A. Zimmerman|                  []|\n",
            "|           Indonesia|572647831053312000|      Mario Riawa|Serasi ade haha @...|   Rinie Syamsuddin|           [AdeRais]|\n",
            "|           Indonesia|572647839521767425|    Bogor Selatan|Akhirnya bisa jug...|       Vinny Sylvia|                  []|\n",
            "|       United States|572647841220337664|          Norwalk|@BeezyDH_ it's li...|                Cas|          [BeezyDH_]|\n",
            "|       United States|572647842277396480|           Santee| obsessed with music|               kimo|                  []|\n",
            "|       United States|572631750163234816|        Tennessee|@blakeshelton You...|        Jeff Morton|      [blakeshelton]|\n",
            "|           Indonesia|572631763115249664|           Gambir|Happy Birhday Ps....|        Rensus Paul|                  []|\n",
            "|       United States|572606799712428033|   North Carolina|One night I'm ext...|                 KC|                  []|\n",
            "|       United States|572606799649640449|        Baltimore|@DjGregStreet STO...|      #QuissyUpSoon|      [DjGregStreet]|\n",
            "|       United States|572606809216663552|          Cypress|always getting in...|                 lo|                  []|\n",
            "|Negara Brunei Dar...|572606812081410048|           Brunei|nigga in paris ht...|           hafizzul|                  []|\n",
            "|       United States|572616136963055616|         Portland|Boutta fall aslee...|          Princess✨|                  []|\n",
            "|       United States|572616139987144704|         Kentucky|Canadians are tak...|       Nene Kiameso|                  []|\n",
            "|       United States|572616165786185728|         Wahpeton|Chicago takin ove...|              Chase|                  []|\n",
            "|      United Kingdom|572667477949353984|Ashton-under-Lyne|@traceyb65 I'm up...|             stefan|         [traceyb65]|\n",
            "+--------------------+------------------+-----------------+--------------------+-------------------+--------------------+\n",
            "only showing top 20 rows\n",
            "\n"
          ]
        }
      ]
    },
    {
      "cell_type": "code",
      "source": [
        "user_mentioned.toPandas().to_csv('Output/twitter/question3',index= False)"
      ],
      "metadata": {
        "id": "qQtp_iy3xRbx"
      },
      "execution_count": 13,
      "outputs": []
    },
    {
      "cell_type": "markdown",
      "source": [
        "##4. Count how many times each person is mentioned"
      ],
      "metadata": {
        "id": "dr4Ojylf9eLg"
      }
    },
    {
      "cell_type": "code",
      "source": [
        "new_usermentioned_df= user_mentioned.select(F.explode('users_mentioned').alias('users_mentioned'))\n",
        "new_usermentioned_df = new_usermentioned_df.filter(new_usermentioned_df['users_mentioned'] != '')\n",
        "question4=new_usermentioned_df.groupBy('users_mentioned').count()\n",
        "question4.show(truncate=False)"
      ],
      "metadata": {
        "colab": {
          "base_uri": "https://localhost:8080/"
        },
        "id": "yQtdisTf9d7C",
        "outputId": "6895f3be-efa4-4787-c17b-f8d2eee57f38"
      },
      "execution_count": 14,
      "outputs": [
        {
          "output_type": "stream",
          "name": "stdout",
          "text": [
            "+---------------+-----+\n",
            "|users_mentioned|count|\n",
            "+---------------+-----+\n",
            "|DjRockyUg      |1    |\n",
            "|TrillHD        |1    |\n",
            "|TimmysWell     |1    |\n",
            "|brookie_baldwin|1    |\n",
            "|TTTorrez       |2    |\n",
            "|boytoyjesse    |1    |\n",
            "|misstoriblack  |1    |\n",
            "|globalstatmusic|1    |\n",
            "|_fuckgio       |1    |\n",
            "|PedroIvoChianca|1    |\n",
            "|Cpiepz         |1    |\n",
            "|avachristy3    |1    |\n",
            "|lostbayouramble|1    |\n",
            "|bellahadid     |1    |\n",
            "|sawano_nZk's   |1    |\n",
            "|marIboros      |1    |\n",
            "|kochamjacksona |1    |\n",
            "|WIOD           |2    |\n",
            "|ShaelynCherie  |2    |\n",
            "|KevinAnex      |1    |\n",
            "+---------------+-----+\n",
            "only showing top 20 rows\n",
            "\n"
          ]
        }
      ]
    },
    {
      "cell_type": "code",
      "source": [
        "question4.toPandas().to_csv('Output/twitter/question4',index= False)"
      ],
      "metadata": {
        "id": "Q64vKMaTxksY"
      },
      "execution_count": 15,
      "outputs": []
    },
    {
      "cell_type": "markdown",
      "source": [
        "##5. Find the 10 most mentioned persons\n"
      ],
      "metadata": {
        "id": "U5TdoMJcCAd9"
      }
    },
    {
      "cell_type": "code",
      "source": [
        "question5=new_usermentioned_df.groupBy('users_mentioned').count().orderBy('count', ascending=False).limit(10)\n",
        "question5.show()"
      ],
      "metadata": {
        "colab": {
          "base_uri": "https://localhost:8080/"
        },
        "id": "QYlGhjAlCAK_",
        "outputId": "0602f994-9e9f-494a-af53-9ec11ec140c0"
      },
      "execution_count": 16,
      "outputs": [
        {
          "output_type": "stream",
          "name": "stdout",
          "text": [
            "+---------------+-----+\n",
            "|users_mentioned|count|\n",
            "+---------------+-----+\n",
            "|    ShawnMendes|  189|\n",
            "|  HIITMANonDECK|  100|\n",
            "|officialdjjuice|   59|\n",
            "|         MAEJOR|   45|\n",
            "|    MR_JAYJONES|   41|\n",
            "|       MeekMill|   35|\n",
            "|MadisonElleBeer|   30|\n",
            "|              …|   28|\n",
            "|     DjLordDash|   27|\n",
            "|     NICKIMINAJ|   25|\n",
            "+---------------+-----+\n",
            "\n"
          ]
        }
      ]
    },
    {
      "cell_type": "code",
      "source": [
        "question5.toPandas().to_csv('Output/twitter/question5',index= False)"
      ],
      "metadata": {
        "id": "RlfNgY0UxstK"
      },
      "execution_count": 17,
      "outputs": []
    },
    {
      "cell_type": "markdown",
      "source": [
        "##6. Find all the hashtags mentioned on a tweet"
      ],
      "metadata": {
        "id": "GwgiqpG7ClDv"
      }
    },
    {
      "cell_type": "code",
      "source": [
        "def generate_hashtags(text):\n",
        "    return [item for item in text.split(' ') if item.startswith('#')]\n",
        "hashtags_mentioned = df_twitter.withColumn('hashtags_mentioned', F.udf(lambda text: generate_hashtags(text), ArrayType(StringType()))('text'))\n",
        "hashtags_mentioned.show()"
      ],
      "metadata": {
        "colab": {
          "base_uri": "https://localhost:8080/"
        },
        "id": "Ri25MnGnColo",
        "outputId": "a7c08d21-5c82-4c90-b5ed-dc3bdd42d6ab"
      },
      "execution_count": 18,
      "outputs": [
        {
          "output_type": "stream",
          "name": "stdout",
          "text": [
            "+--------------------+------------------+-----------------+--------------------+-------------------+--------------------+\n",
            "|             country|                id|            place|                text|               user|  hashtags_mentioned|\n",
            "+--------------------+------------------+-----------------+--------------------+-------------------+--------------------+\n",
            "|               India|572692378957430785|           Orissa|@always_nidhi @Yo...|    Srkian_nishu :)|                  []|\n",
            "|       United States|572575240615796737|        Manhattan|@OnlyDancers Bell...| TagineDiningGlobal|                  []|\n",
            "|       United States|572575243883036672|        Claremont|1/ \"Without the a...|        Daniel Beer|                  []|\n",
            "|       United States|572575252020109313|           Vienna|idk why people ha...|   someone actually|                  []|\n",
            "|       United States|572575274539356160|           Boston|Taste of Iceland!...|     BostonAttitude|                  []|\n",
            "|       United States|572647819401670656|          Suwanee|Know what you don...|Collin A. Zimmerman|   [#shutUpAndDANCE]|\n",
            "|           Indonesia|572647831053312000|      Mario Riawa|Serasi ade haha @...|   Rinie Syamsuddin|[#SHINee, #AMBER(...|\n",
            "|           Indonesia|572647839521767425|    Bogor Selatan|Akhirnya bisa jug...|       Vinny Sylvia|                  []|\n",
            "|       United States|572647841220337664|          Norwalk|@BeezyDH_ it's li...|                Cas|                  []|\n",
            "|       United States|572647842277396480|           Santee| obsessed with music|               kimo|                  []|\n",
            "|       United States|572631750163234816|        Tennessee|@blakeshelton You...|        Jeff Morton|                  []|\n",
            "|           Indonesia|572631763115249664|           Gambir|Happy Birhday Ps....|        Rensus Paul| [#JR50, #flipagram]|\n",
            "|       United States|572606799712428033|   North Carolina|One night I'm ext...|                 KC|                  []|\n",
            "|       United States|572606799649640449|        Baltimore|@DjGregStreet STO...|      #QuissyUpSoon|[#DME, #ROADBOYZ,...|\n",
            "|       United States|572606809216663552|          Cypress|always getting in...|                 lo|                  []|\n",
            "|Negara Brunei Dar...|572606812081410048|           Brunei|nigga in paris ht...|           hafizzul|                  []|\n",
            "|       United States|572616136963055616|         Portland|Boutta fall aslee...|          Princess✨|                  []|\n",
            "|       United States|572616139987144704|         Kentucky|Canadians are tak...|       Nene Kiameso|                  []|\n",
            "|       United States|572616165786185728|         Wahpeton|Chicago takin ove...|              Chase|                  []|\n",
            "|      United Kingdom|572667477949353984|Ashton-under-Lyne|@traceyb65 I'm up...|             stefan|                  []|\n",
            "+--------------------+------------------+-----------------+--------------------+-------------------+--------------------+\n",
            "only showing top 20 rows\n",
            "\n"
          ]
        }
      ]
    },
    {
      "cell_type": "code",
      "source": [
        "hashtags_mentioned.toPandas().to_csv('Output/twitter/question6',index= False)"
      ],
      "metadata": {
        "id": "iyAPInfjxw4N"
      },
      "execution_count": 20,
      "outputs": []
    },
    {
      "cell_type": "markdown",
      "source": [
        "##7. Count how many times each hashtag is mentioned"
      ],
      "metadata": {
        "id": "U6N_ByTYDlEe"
      }
    },
    {
      "cell_type": "code",
      "source": [
        "new_hashtags_mentioned= hashtags_mentioned.select(F.explode('hashtags_mentioned').alias('hashtags_mentioned'))\n",
        "new_hashtags_mentioned = new_hashtags_mentioned.filter(new_hashtags_mentioned['hashtags_mentioned'] != '')\n",
        "question7=new_hashtags_mentioned.groupBy('hashtags_mentioned').count()\n",
        "question7.show(truncate=False)"
      ],
      "metadata": {
        "colab": {
          "base_uri": "https://localhost:8080/"
        },
        "id": "_0_PCzabDkyN",
        "outputId": "4a978e26-3951-4223-a466-b76f5d87a2a1"
      },
      "execution_count": 21,
      "outputs": [
        {
          "output_type": "stream",
          "name": "stdout",
          "text": [
            "+--------------------+-----+\n",
            "|hashtags_mentioned  |count|\n",
            "+--------------------+-----+\n",
            "|#2NE1               |3    |\n",
            "|#musicLover         |1    |\n",
            "|#IBMCloud           |2    |\n",
            "|#flexrecordingstudio|1    |\n",
            "|#Hottest            |1    |\n",
            "|#VanessaBorn        |1    |\n",
            "|#happychappy        |1    |\n",
            "|#yyjevents          |1    |\n",
            "|#LittleLionMan      |1    |\n",
            "|#MBAMBADU           |7    |\n",
            "|#misheardlyrics     |1    |\n",
            "|#Indie              |2    |\n",
            "|#family             |1    |\n",
            "|#beautiful          |2    |\n",
            "|#Waiter             |1    |\n",
            "|#friend             |1    |\n",
            "|#recuseimitaçoes    |1    |\n",
            "|#airbnb             |1    |\n",
            "|#BØRNS              |1    |\n",
            "|#ChickCorea         |1    |\n",
            "+--------------------+-----+\n",
            "only showing top 20 rows\n",
            "\n"
          ]
        }
      ]
    },
    {
      "cell_type": "code",
      "source": [
        "question7.toPandas().to_csv('Output/twitter/question7',index= False)"
      ],
      "metadata": {
        "id": "FREUl7Llx-bS"
      },
      "execution_count": 22,
      "outputs": []
    },
    {
      "cell_type": "markdown",
      "source": [
        "##8. Find the 10 most popular Hashtags"
      ],
      "metadata": {
        "id": "ZBkv1gWp36r2"
      }
    },
    {
      "cell_type": "code",
      "source": [
        "question8=new_hashtags_mentioned.groupBy('hashtags_mentioned').count().orderBy('count', ascending=False).limit(10)\n",
        "question8.show()"
      ],
      "metadata": {
        "colab": {
          "base_uri": "https://localhost:8080/"
        },
        "id": "wWSDkF4S37Fh",
        "outputId": "eacd2cab-223f-4451-c75e-163bfec39900"
      },
      "execution_count": 23,
      "outputs": [
        {
          "output_type": "stream",
          "name": "stdout",
          "text": [
            "+-------------------+-----+\n",
            "| hashtags_mentioned|count|\n",
            "+-------------------+-----+\n",
            "|               #DME|  253|\n",
            "|          #ROADBOYZ|  251|\n",
            "|             #music|  236|\n",
            "|             #Paris|  144|\n",
            "|#QuissyUpSoon🔥🔥💯|  129|\n",
            "|      #QuissyUpSoon|  120|\n",
            "| #Trippythursdaymia|  100|\n",
            "|             #Music|   84|\n",
            "|    #MaejorMeAndYou|   44|\n",
            "|              #IGGL|   41|\n",
            "+-------------------+-----+\n",
            "\n"
          ]
        }
      ]
    },
    {
      "cell_type": "code",
      "source": [
        "question8.toPandas().to_csv('Output/twitter/question8',index= False)"
      ],
      "metadata": {
        "id": "KQ-p-V6XyFPr"
      },
      "execution_count": 24,
      "outputs": []
    },
    {
      "cell_type": "markdown",
      "source": [
        "##9.Find the top 5 countries which tweet the most."
      ],
      "metadata": {
        "id": "Kst71Otl3hDA"
      }
    },
    {
      "cell_type": "code",
      "source": [
        "question9=df_twitter.groupBy('country').count().orderBy('count', ascending=False).limit(5)\n",
        "question9.show()"
      ],
      "metadata": {
        "colab": {
          "base_uri": "https://localhost:8080/"
        },
        "id": "jwhGbkOV3hgK",
        "outputId": "510610d0-5440-479a-bd0f-5260c1dcb47d"
      },
      "execution_count": 25,
      "outputs": [
        {
          "output_type": "stream",
          "name": "stdout",
          "text": [
            "+--------------+-----+\n",
            "|       country|count|\n",
            "+--------------+-----+\n",
            "| United States| 4841|\n",
            "|        France|  737|\n",
            "|     Indonesia|  370|\n",
            "|United Kingdom|  365|\n",
            "|        Brasil|  256|\n",
            "+--------------+-----+\n",
            "\n"
          ]
        }
      ]
    },
    {
      "cell_type": "code",
      "source": [
        "question9.toPandas().to_csv('Output/twitter/question9',index= False)"
      ],
      "metadata": {
        "id": "kKxdybxQyMju"
      },
      "execution_count": 26,
      "outputs": []
    }
  ]
}