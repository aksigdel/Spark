{
  "nbformat": 4,
  "nbformat_minor": 0,
  "metadata": {
    "colab": {
      "provenance": []
    },
    "kernelspec": {
      "name": "python3",
      "display_name": "Python 3"
    },
    "language_info": {
      "name": "python"
    }
  },
  "cells": [
    {
      "cell_type": "code",
      "source": [
        "pip install pyspark"
      ],
      "metadata": {
        "colab": {
          "base_uri": "https://localhost:8080/"
        },
        "id": "gt3QuBOGMczu",
        "outputId": "b6be790d-0598-492e-dc49-aaa7b22a9fda"
      },
      "execution_count": null,
      "outputs": [
        {
          "output_type": "stream",
          "name": "stdout",
          "text": [
            "Looking in indexes: https://pypi.org/simple, https://us-python.pkg.dev/colab-wheels/public/simple/\n",
            "Collecting pyspark\n",
            "  Downloading pyspark-3.3.0.tar.gz (281.3 MB)\n",
            "\u001b[K     |████████████████████████████████| 281.3 MB 50 kB/s \n",
            "\u001b[?25hCollecting py4j==0.10.9.5\n",
            "  Downloading py4j-0.10.9.5-py2.py3-none-any.whl (199 kB)\n",
            "\u001b[K     |████████████████████████████████| 199 kB 62.4 MB/s \n",
            "\u001b[?25hBuilding wheels for collected packages: pyspark\n",
            "  Building wheel for pyspark (setup.py) ... \u001b[?25l\u001b[?25hdone\n",
            "  Created wheel for pyspark: filename=pyspark-3.3.0-py2.py3-none-any.whl size=281764026 sha256=56d12a7ee1c1932418ebfeb2dcdaa9b8db709d7c171da9e87895f955101bd2d2\n",
            "  Stored in directory: /root/.cache/pip/wheels/7a/8e/1b/f73a52650d2e5f337708d9f6a1750d451a7349a867f928b885\n",
            "Successfully built pyspark\n",
            "Installing collected packages: py4j, pyspark\n",
            "Successfully installed py4j-0.10.9.5 pyspark-3.3.0\n"
          ]
        }
      ]
    },
    {
      "cell_type": "markdown",
      "source": [
        "Questions\n",
        "\n",
        "1.   Find the total cost, total revenue, total profit on the basis of each region\n",
        "2. Find the Item List on the basis of each country\n",
        "3. Find the total number of items sold in each country\n",
        "4. Find the top five famous item lists on the basis of each region.(Consider units sold while doing this.)\n",
        "5. Find all the regions and their famous sales channels.\n",
        "6. Find  the list of countries and items and their respective units.\n",
        "7. In 2013, identify the regions which sold maximum and minimum units of item type Meat.\n",
        "8. List all the items whose unit cost is less than 500\n",
        "9. Find the total cost, revenue and profit of each year.\n",
        "\n",
        "\n",
        "\n",
        "\n"
      ],
      "metadata": {
        "id": "LA-f8K8lLl8l"
      }
    },
    {
      "cell_type": "code",
      "execution_count": null,
      "metadata": {
        "id": "f77JjAOHLdNe"
      },
      "outputs": [],
      "source": [
        "from pyspark.sql import SparkSession , functions as F, Window as W\n",
        "spark = SparkSession.builder.appName('sales').getOrCreate()"
      ]
    },
    {
      "cell_type": "code",
      "source": [
        "from pyspark.sql.types import StringType, FloatType, IntegerType"
      ],
      "metadata": {
        "id": "FOZlKG3hOB-r"
      },
      "execution_count": null,
      "outputs": []
    },
    {
      "cell_type": "code",
      "source": [
        "df_sales = spark.read.format('json').load('sample_data/sales_records.json')\n",
        "df_sales.printSchema()\n",
        "df_sales.show(10)"
      ],
      "metadata": {
        "colab": {
          "base_uri": "https://localhost:8080/"
        },
        "id": "3KnF1ThPIxJf",
        "outputId": "f5581041-06f1-4dc4-8210-247f0956eeff"
      },
      "execution_count": null,
      "outputs": [
        {
          "output_type": "stream",
          "name": "stdout",
          "text": [
            "root\n",
            " |-- Country: string (nullable = true)\n",
            " |-- Item Type: string (nullable = true)\n",
            " |-- Order Date: string (nullable = true)\n",
            " |-- Order ID: string (nullable = true)\n",
            " |-- Order Priority: string (nullable = true)\n",
            " |-- Region: string (nullable = true)\n",
            " |-- Sales Channel: string (nullable = true)\n",
            " |-- Ship Date: string (nullable = true)\n",
            " |-- Total Cost: string (nullable = true)\n",
            " |-- Total Profit: string (nullable = true)\n",
            " |-- Total Revenue: string (nullable = true)\n",
            " |-- Unit Cost: string (nullable = true)\n",
            " |-- Unit Price: string (nullable = true)\n",
            " |-- Units Sold: string (nullable = true)\n",
            " |-- _corrupt_record: string (nullable = true)\n",
            "\n",
            "+--------------------+-------------+----------+---------+--------------+--------------------+-------------+----------+----------+------------+-------------+---------+----------+----------+---------------+\n",
            "|             Country|    Item Type|Order Date| Order ID|Order Priority|              Region|Sales Channel| Ship Date|Total Cost|Total Profit|Total Revenue|Unit Cost|Unit Price|Units Sold|_corrupt_record|\n",
            "+--------------------+-------------+----------+---------+--------------+--------------------+-------------+----------+----------+------------+-------------+---------+----------+----------+---------------+\n",
            "|          Azerbaijan|       Snacks| 10/8/2014|535113847|             C|Middle East and N...|       Online|10/23/2014|  91008.96|    51500.76|    142509.72|    97.44|    152.58|       934|           null|\n",
            "|              Panama|    Cosmetics| 2/22/2015|874708545|             L|Central America a...|      Offline| 2/27/2015|1198414.83|   791282.37|   1989697.20|   263.33|    437.20|      4551|           null|\n",
            "|Sao Tome and Prin...|       Fruits| 12/9/2015|854349935|             M|  Sub-Saharan Africa|      Offline| 1/18/2016|  69103.12|    24066.26|     93169.38|     6.92|      9.33|      9986|           null|\n",
            "|Sao Tome and Prin...|Personal Care| 9/17/2014|892836844|             M|  Sub-Saharan Africa|       Online|10/12/2014| 516717.06|   228497.08|    745214.14|    56.67|     81.73|      9118|           null|\n",
            "|              Belize|    Household|  2/4/2010|129280602|             H|Central America a...|      Offline|  3/5/2010|2943879.32|   970846.34|   3914725.66|   502.54|    668.27|      5858|           null|\n",
            "|             Denmark|      Clothes| 2/20/2013|473105037|             C|              Europe|       Online| 2/28/2013|  41180.16|    84382.56|    125562.72|    35.84|    109.28|      1149|           null|\n",
            "|             Germany|    Cosmetics| 3/31/2013|754046475|             M|              Europe|      Offline|  5/3/2013|2097160.12|  1384700.68|   3481860.80|   263.33|    437.20|      7964|           null|\n",
            "|              Turkey|       Fruits| 3/26/2012|772153747|             C|Middle East and N...|       Online|  4/7/2012|  43644.44|    15199.87|     58844.31|     6.92|      9.33|      6307|           null|\n",
            "|      United Kingdom|       Snacks|12/29/2012|847788178|             H|              Europe|       Online| 1/15/2013| 800664.48|   453085.38|   1253749.86|    97.44|    152.58|      8217|           null|\n",
            "|          Kazakhstan|    Cosmetics| 9/11/2015|471623599|             H|                Asia|       Online| 9/18/2015| 726264.14|   479533.46|   1205797.60|   263.33|    437.20|      2758|           null|\n",
            "+--------------------+-------------+----------+---------+--------------+--------------------+-------------+----------+----------+------------+-------------+---------+----------+----------+---------------+\n",
            "only showing top 10 rows\n",
            "\n"
          ]
        }
      ]
    },
    {
      "cell_type": "code",
      "source": [
        "#typecasting arithmetic attributes\n",
        "df_sales = df_sales\\\n",
        "            .withColumn('Total Cost', df_sales['Total Cost'].cast(FloatType()))\\\n",
        "            .withColumn('Total Profit', df_sales['Total Profit'].cast(FloatType()))\\\n",
        "            .withColumn('Total Revenue', df_sales['Total Revenue'].cast(FloatType()))\\\n",
        "            .withColumn('Unit Cost', df_sales['Unit Cost'].cast(FloatType()))\\\n",
        "            .withColumn('Unit Price', df_sales['Unit Price'].cast(FloatType()))\\\n",
        "            .withColumn('Units Sold', df_sales['Units Sold'].cast(IntegerType()))\n",
        "df_sales.printSchema()\n",
        "df_sales.show(10)"
      ],
      "metadata": {
        "colab": {
          "base_uri": "https://localhost:8080/"
        },
        "id": "gNqmDbsiNnpG",
        "outputId": "21ba9e80-35a6-4667-f8b5-35d1ec2e53ff"
      },
      "execution_count": null,
      "outputs": [
        {
          "output_type": "stream",
          "name": "stdout",
          "text": [
            "root\n",
            " |-- Country: string (nullable = true)\n",
            " |-- Item Type: string (nullable = true)\n",
            " |-- Order Date: string (nullable = true)\n",
            " |-- Order ID: string (nullable = true)\n",
            " |-- Order Priority: string (nullable = true)\n",
            " |-- Region: string (nullable = true)\n",
            " |-- Sales Channel: string (nullable = true)\n",
            " |-- Ship Date: string (nullable = true)\n",
            " |-- Total Cost: float (nullable = true)\n",
            " |-- Total Profit: float (nullable = true)\n",
            " |-- Total Revenue: float (nullable = true)\n",
            " |-- Unit Cost: float (nullable = true)\n",
            " |-- Unit Price: float (nullable = true)\n",
            " |-- Units Sold: integer (nullable = true)\n",
            " |-- _corrupt_record: string (nullable = true)\n",
            "\n",
            "+--------------------+-------------+----------+---------+--------------+--------------------+-------------+----------+----------+------------+-------------+---------+----------+----------+---------------+\n",
            "|             Country|    Item Type|Order Date| Order ID|Order Priority|              Region|Sales Channel| Ship Date|Total Cost|Total Profit|Total Revenue|Unit Cost|Unit Price|Units Sold|_corrupt_record|\n",
            "+--------------------+-------------+----------+---------+--------------+--------------------+-------------+----------+----------+------------+-------------+---------+----------+----------+---------------+\n",
            "|          Azerbaijan|       Snacks| 10/8/2014|535113847|             C|Middle East and N...|       Online|10/23/2014|  91008.96|    51500.76|    142509.72|    97.44|    152.58|       934|           null|\n",
            "|              Panama|    Cosmetics| 2/22/2015|874708545|             L|Central America a...|      Offline| 2/27/2015| 1198414.9|    791282.4|    1989697.2|   263.33|     437.2|      4551|           null|\n",
            "|Sao Tome and Prin...|       Fruits| 12/9/2015|854349935|             M|  Sub-Saharan Africa|      Offline| 1/18/2016|  69103.12|    24066.26|     93169.38|     6.92|      9.33|      9986|           null|\n",
            "|Sao Tome and Prin...|Personal Care| 9/17/2014|892836844|             M|  Sub-Saharan Africa|       Online|10/12/2014| 516717.06|   228497.08|     745214.1|    56.67|     81.73|      9118|           null|\n",
            "|              Belize|    Household|  2/4/2010|129280602|             H|Central America a...|      Offline|  3/5/2010| 2943879.2|    970846.3|    3914725.8|   502.54|    668.27|      5858|           null|\n",
            "|             Denmark|      Clothes| 2/20/2013|473105037|             C|              Europe|       Online| 2/28/2013|  41180.16|    84382.56|    125562.72|    35.84|    109.28|      1149|           null|\n",
            "|             Germany|    Cosmetics| 3/31/2013|754046475|             M|              Europe|      Offline|  5/3/2013| 2097160.0|   1384700.6|    3481860.8|   263.33|     437.2|      7964|           null|\n",
            "|              Turkey|       Fruits| 3/26/2012|772153747|             C|Middle East and N...|       Online|  4/7/2012|  43644.44|    15199.87|     58844.31|     6.92|      9.33|      6307|           null|\n",
            "|      United Kingdom|       Snacks|12/29/2012|847788178|             H|              Europe|       Online| 1/15/2013|  800664.5|   453085.38|    1253749.9|    97.44|    152.58|      8217|           null|\n",
            "|          Kazakhstan|    Cosmetics| 9/11/2015|471623599|             H|                Asia|       Online| 9/18/2015|  726264.1|   479533.47|    1205797.6|   263.33|     437.2|      2758|           null|\n",
            "+--------------------+-------------+----------+---------+--------------+--------------------+-------------+----------+----------+------------+-------------+---------+----------+----------+---------------+\n",
            "only showing top 10 rows\n",
            "\n"
          ]
        }
      ]
    },
    {
      "cell_type": "code",
      "source": [
        "df_sales.coalesce(1).write.csv('Output/sales/sales_data',header=True,mode='overwrite')"
      ],
      "metadata": {
        "id": "ealwSQMkrfBH"
      },
      "execution_count": 97,
      "outputs": []
    },
    {
      "cell_type": "markdown",
      "source": [
        "##1. Find the total cost, total revenue, total profit on the basis of each region\n"
      ],
      "metadata": {
        "id": "Bw-jBuRLOxx_"
      }
    },
    {
      "cell_type": "code",
      "source": [
        "# to droping null in region attribute\n",
        "df_sales = df_sales.na.drop(subset=['Region'])"
      ],
      "metadata": {
        "id": "IuL36_FUPhHP"
      },
      "execution_count": null,
      "outputs": []
    },
    {
      "cell_type": "code",
      "source": [
        "question1=df_sales.groupBy('Region').agg(F.sum('Total Cost'), F.sum('Total Revenue'), F.sum('Total Profit'))\n",
        "question1.show()"
      ],
      "metadata": {
        "colab": {
          "base_uri": "https://localhost:8080/"
        },
        "id": "5fXYpumqO0KB",
        "outputId": "9d93591c-4794-404b-e9be-eab7da9896a0"
      },
      "execution_count": 102,
      "outputs": [
        {
          "output_type": "stream",
          "name": "stdout",
          "text": [
            "+--------------------+--------------------+--------------------+--------------------+\n",
            "|              Region|     sum(Total Cost)|  sum(Total Revenue)|   sum(Total Profit)|\n",
            "+--------------------+--------------------+--------------------+--------------------+\n",
            "|Middle East and N...|1.194003115362056...|1.691834583280536...| 4.978314680986322E9|\n",
            "|Australia and Oce...| 7.526098663258995E9|1.070152222371284...|3.1754235603909473E9|\n",
            "|              Europe|2.415937816242763E10|3.423977049206286...|1.008039233312204...|\n",
            "|  Sub-Saharan Africa|2.465031758112777...|3.495487197307492E10|1.030455438786905...|\n",
            "|Central America a...|1.026651963972375...|1.455373016365411...|4.2872105216859627E9|\n",
            "|       North America| 2.064450719133194E9|2.9370023334700775E9| 8.725516170647297E8|\n",
            "|                Asia|1.358588970253493...|1.929340122315577...|5.7075115161706505E9|\n",
            "+--------------------+--------------------+--------------------+--------------------+\n",
            "\n"
          ]
        }
      ]
    },
    {
      "cell_type": "code",
      "source": [
        "question1.toPandas().to_csv('Output/sales/question1',index= False)"
      ],
      "metadata": {
        "id": "NkUo8c8ZsJHo"
      },
      "execution_count": 107,
      "outputs": []
    },
    {
      "cell_type": "markdown",
      "source": [
        "## 2. Find the Item List on the basis of each country"
      ],
      "metadata": {
        "id": "H55AB98vQDzG"
      }
    },
    {
      "cell_type": "code",
      "source": [
        "question2=df_sales.withColumn('Itemlist', F.collect_set('Item Type').over(W.partitionBy('Country'))).select('Country', 'Itemlist').distinct()\n",
        "question2.show()"
      ],
      "metadata": {
        "colab": {
          "base_uri": "https://localhost:8080/"
        },
        "id": "uJvVijk_QHS4",
        "outputId": "f8acf262-b4a5-434b-b6b2-1b2d4f7efb14"
      },
      "execution_count": 103,
      "outputs": [
        {
          "output_type": "stream",
          "name": "stdout",
          "text": [
            "+--------------------+--------------------+\n",
            "|             Country|            Itemlist|\n",
            "+--------------------+--------------------+\n",
            "|         Afghanistan|[Beverages, Perso...|\n",
            "|             Albania|[Beverages, Perso...|\n",
            "|             Algeria|[Beverages, Perso...|\n",
            "|             Andorra|[Beverages, Perso...|\n",
            "|              Angola|[Beverages, Perso...|\n",
            "|Antigua and Barbuda |[Beverages, Perso...|\n",
            "|             Armenia|[Beverages, Perso...|\n",
            "|           Australia|[Beverages, Perso...|\n",
            "|             Austria|[Beverages, Perso...|\n",
            "|          Azerbaijan|[Beverages, Perso...|\n",
            "|             Bahrain|[Beverages, Perso...|\n",
            "|          Bangladesh|[Beverages, Perso...|\n",
            "|            Barbados|[Beverages, Perso...|\n",
            "|             Belarus|[Beverages, Perso...|\n",
            "|             Belgium|[Beverages, Perso...|\n",
            "|              Belize|[Beverages, Perso...|\n",
            "|               Benin|[Beverages, Perso...|\n",
            "|              Bhutan|[Beverages, Perso...|\n",
            "|Bosnia and Herzeg...|[Beverages, Perso...|\n",
            "|            Botswana|[Beverages, Perso...|\n",
            "+--------------------+--------------------+\n",
            "only showing top 20 rows\n",
            "\n"
          ]
        }
      ]
    },
    {
      "cell_type": "code",
      "source": [
        "question2.toPandas().to_csv('Output/sales/question2',index= False)"
      ],
      "metadata": {
        "id": "qWFhnrwmsmXY"
      },
      "execution_count": 117,
      "outputs": []
    },
    {
      "cell_type": "markdown",
      "source": [
        "##3. Find the total number of items sold in each country\n"
      ],
      "metadata": {
        "id": "T3H0DHc9SR8p"
      }
    },
    {
      "cell_type": "code",
      "source": [
        "question3=df_sales.groupBy('Country').agg(F.sum('Units Sold').alias('Total number of items sold'))\n",
        "question3.show()"
      ],
      "metadata": {
        "colab": {
          "base_uri": "https://localhost:8080/"
        },
        "id": "nJ5xFv7bSRlL",
        "outputId": "d346edeb-b035-4447-9dfb-d9706eb5cac5"
      },
      "execution_count": 108,
      "outputs": [
        {
          "output_type": "stream",
          "name": "stdout",
          "text": [
            "+-----------+--------------------------+\n",
            "|    Country|Total number of items sold|\n",
            "+-----------+--------------------------+\n",
            "|       Chad|                   2660461|\n",
            "|     Russia|                   2579558|\n",
            "|      Yemen|                   2966519|\n",
            "|    Senegal|                   2716010|\n",
            "|     Sweden|                   2698756|\n",
            "|   Kiribati|                   2555774|\n",
            "|    Eritrea|                   2552497|\n",
            "|Philippines|                   2610149|\n",
            "|   Djibouti|                   2699545|\n",
            "|      Tonga|                   2565238|\n",
            "|  Singapore|                   2693579|\n",
            "|   Malaysia|                   2587267|\n",
            "|       Fiji|                   2613373|\n",
            "|     Turkey|                   2732629|\n",
            "|     Malawi|                   2645975|\n",
            "|       Iraq|                   2765491|\n",
            "|    Germany|                   2502470|\n",
            "|    Comoros|                   2556790|\n",
            "|   Cambodia|                   2946963|\n",
            "|Afghanistan|                   2805640|\n",
            "+-----------+--------------------------+\n",
            "only showing top 20 rows\n",
            "\n"
          ]
        }
      ]
    },
    {
      "cell_type": "code",
      "source": [
        "question3.toPandas().to_csv('Output/sales/question3',index= False)"
      ],
      "metadata": {
        "id": "6qdHGtICtq4_"
      },
      "execution_count": 109,
      "outputs": []
    },
    {
      "cell_type": "markdown",
      "source": [
        "##4. Find the top five famous items list on the basis of each region.(Consider units sold while doing this.)\n"
      ],
      "metadata": {
        "id": "PFjkoDjGSs86"
      }
    },
    {
      "cell_type": "code",
      "source": [
        "df_regionsales = df_sales.groupBy('Region', 'Item Type').agg(F.sum('Units Sold').alias('Total Units Sold')).orderBy('Region', 'Total Units Sold')\n",
        "df_regionsales_rank = df_regionsales.withColumn('rank', F.rank().over(W.partitionBy('Region').orderBy(F.col('Total Units Sold').desc()))).where('rank <= 5')\n",
        "df_regionsales_rank.show()            \n",
        "                            "
      ],
      "metadata": {
        "colab": {
          "base_uri": "https://localhost:8080/"
        },
        "id": "Y9X0zk8oSvfZ",
        "outputId": "dbefa58a-71cd-4e38-a745-982f7448b718"
      },
      "execution_count": null,
      "outputs": [
        {
          "output_type": "stream",
          "name": "stdout",
          "text": [
            "+--------------------+---------------+----------------+----+\n",
            "|              Region|      Item Type|Total Units Sold|rank|\n",
            "+--------------------+---------------+----------------+----+\n",
            "|                Asia|         Cereal|         6397658|   1|\n",
            "|                Asia|         Snacks|         6330265|   2|\n",
            "|                Asia|Office Supplies|         6187421|   3|\n",
            "|                Asia|     Vegetables|         6121703|   4|\n",
            "|                Asia|        Clothes|         6117405|   5|\n",
            "|Australia and Oce...|  Personal Care|         3616014|   1|\n",
            "|Australia and Oce...|     Vegetables|         3569149|   2|\n",
            "|Australia and Oce...|         Cereal|         3535286|   3|\n",
            "|Australia and Oce...|      Beverages|         3436051|   4|\n",
            "|Australia and Oce...|        Clothes|         3393563|   5|\n",
            "|Central America a...|      Cosmetics|         4814795|   1|\n",
            "|Central America a...|        Clothes|         4675554|   2|\n",
            "|Central America a...|           Meat|         4675081|   3|\n",
            "|Central America a...|Office Supplies|         4595205|   4|\n",
            "|Central America a...|      Baby Food|         4524204|   5|\n",
            "|              Europe|         Cereal|        11076271|   1|\n",
            "|              Europe|Office Supplies|        10905284|   2|\n",
            "|              Europe|     Vegetables|        10859623|   3|\n",
            "|              Europe|      Beverages|        10782748|   4|\n",
            "|              Europe|         Fruits|        10773210|   5|\n",
            "+--------------------+---------------+----------------+----+\n",
            "only showing top 20 rows\n",
            "\n"
          ]
        }
      ]
    },
    {
      "cell_type": "code",
      "source": [
        "df_regionsales_rank.toPandas().to_csv('Output/sales/question4',index= False)"
      ],
      "metadata": {
        "id": "RBS_axRAt0AY"
      },
      "execution_count": 110,
      "outputs": []
    },
    {
      "cell_type": "markdown",
      "source": [
        "##5. Find all the regions and their famous sales channels"
      ],
      "metadata": {
        "id": "00TEb5YMU_Jl"
      }
    },
    {
      "cell_type": "code",
      "source": [
        "question5=df_sales.withColumn('Sales Channels', F.collect_set('Sales Channel').over(W.partitionBy('Region'))).select('Region', 'Sales Channels').distinct()\n",
        "question5.show()\n"
      ],
      "metadata": {
        "colab": {
          "base_uri": "https://localhost:8080/"
        },
        "id": "hA39TX9kU-8R",
        "outputId": "baabd213-3151-449e-b0de-fa1be3090853"
      },
      "execution_count": 111,
      "outputs": [
        {
          "output_type": "stream",
          "name": "stdout",
          "text": [
            "+--------------------+-----------------+\n",
            "|              Region|   Sales Channels|\n",
            "+--------------------+-----------------+\n",
            "|                Asia|[Online, Offline]|\n",
            "|Australia and Oce...|[Online, Offline]|\n",
            "|Central America a...|[Online, Offline]|\n",
            "|              Europe|[Online, Offline]|\n",
            "|Middle East and N...|[Online, Offline]|\n",
            "|       North America|[Online, Offline]|\n",
            "|  Sub-Saharan Africa|[Online, Offline]|\n",
            "+--------------------+-----------------+\n",
            "\n"
          ]
        }
      ]
    },
    {
      "cell_type": "code",
      "source": [
        "question5.toPandas().to_csv('Output/sales/question5',index= False)"
      ],
      "metadata": {
        "id": "bvoXaST-t_mF"
      },
      "execution_count": 112,
      "outputs": []
    },
    {
      "cell_type": "markdown",
      "source": [
        "##6. Find the list of countries and items and their respective units.\n"
      ],
      "metadata": {
        "id": "CgGXRxwJWNSf"
      }
    },
    {
      "cell_type": "code",
      "source": [
        "question6=df_sales.groupBy('Country', 'Item Type').agg(F.sum('Units Sold').alias('Units Sold')).orderBy('Country')\n",
        "question6.show()"
      ],
      "metadata": {
        "colab": {
          "base_uri": "https://localhost:8080/"
        },
        "id": "ZvD2FjcGWFFA",
        "outputId": "f11faf8d-3f60-466c-e693-e8691b387b70"
      },
      "execution_count": 113,
      "outputs": [
        {
          "output_type": "stream",
          "name": "stdout",
          "text": [
            "+-----------+---------------+----------+\n",
            "|    Country|      Item Type|Units Sold|\n",
            "+-----------+---------------+----------+\n",
            "|Afghanistan|     Vegetables|    219937|\n",
            "|Afghanistan|      Baby Food|    232084|\n",
            "|Afghanistan|Office Supplies|    166911|\n",
            "|Afghanistan|           Meat|    273402|\n",
            "|Afghanistan|        Clothes|    220429|\n",
            "|Afghanistan|  Personal Care|    255956|\n",
            "|Afghanistan|         Cereal|    256936|\n",
            "|Afghanistan|      Beverages|    206154|\n",
            "|Afghanistan|      Household|    261953|\n",
            "|Afghanistan|         Fruits|    257336|\n",
            "|Afghanistan|         Snacks|    237350|\n",
            "|Afghanistan|      Cosmetics|    217192|\n",
            "|    Albania|         Cereal|    215238|\n",
            "|    Albania|           Meat|    266123|\n",
            "|    Albania|        Clothes|    250884|\n",
            "|    Albania|         Snacks|    210384|\n",
            "|    Albania|Office Supplies|    236822|\n",
            "|    Albania|      Baby Food|    191480|\n",
            "|    Albania|         Fruits|    252283|\n",
            "|    Albania|  Personal Care|    222874|\n",
            "+-----------+---------------+----------+\n",
            "only showing top 20 rows\n",
            "\n"
          ]
        }
      ]
    },
    {
      "cell_type": "code",
      "source": [
        "question6.toPandas().to_csv('Output/sales/question6',index= False)"
      ],
      "metadata": {
        "id": "Is6zPu33uJAi"
      },
      "execution_count": 114,
      "outputs": []
    },
    {
      "cell_type": "markdown",
      "source": [
        "##7. In 2013, identify the regions which sold maximum and minimum units of item type Meat.\n"
      ],
      "metadata": {
        "id": "jLcoqTIFWiYj"
      }
    },
    {
      "cell_type": "code",
      "source": [
        "df_sales_2013=df_sales.withColumn('year', F.substring('Order Date', -4, 4)).where(F.col('year') == '2013')\n",
        "\n",
        "question7=df_sales_2013.where(df_sales['Item Type'] == 'Meat').groupBy('Region', 'Item Type').agg(F.sum('Units Sold').alias('Units Sold')).orderBy('Units Sold')\n",
        "question7.show()\n"
      ],
      "metadata": {
        "colab": {
          "base_uri": "https://localhost:8080/"
        },
        "id": "Vagso14AWpQa",
        "outputId": "6553190b-0113-4b62-ad55-a7fbce9d113e"
      },
      "execution_count": 115,
      "outputs": [
        {
          "output_type": "stream",
          "name": "stdout",
          "text": [
            "+--------------------+---------+----------+\n",
            "|              Region|Item Type|Units Sold|\n",
            "+--------------------+---------+----------+\n",
            "|       North America|     Meat|    106193|\n",
            "|Australia and Oce...|     Meat|    449346|\n",
            "|Central America a...|     Meat|    615706|\n",
            "|Middle East and N...|     Meat|    745940|\n",
            "|                Asia|     Meat|    956367|\n",
            "|              Europe|     Meat|   1468932|\n",
            "|  Sub-Saharan Africa|     Meat|   1491277|\n",
            "+--------------------+---------+----------+\n",
            "\n"
          ]
        }
      ]
    },
    {
      "cell_type": "code",
      "source": [
        "question7.toPandas().to_csv('Output/sales/question7',index= False)"
      ],
      "metadata": {
        "id": "boNCTHHduaY0"
      },
      "execution_count": 118,
      "outputs": []
    },
    {
      "cell_type": "markdown",
      "source": [
        "##8. List all the items whose unit cost is less than 500\n"
      ],
      "metadata": {
        "id": "Q92wY8JiX6-0"
      }
    },
    {
      "cell_type": "code",
      "source": [
        "question8=df_sales.filter(df_sales['Unit Cost'] < 500).select('Item Type', 'Unit Cost').distinct()\n",
        "question8.show()"
      ],
      "metadata": {
        "colab": {
          "base_uri": "https://localhost:8080/"
        },
        "id": "wQ0PeVqHX9cV",
        "outputId": "14ba00c4-dac1-4917-a823-72c13d304695"
      },
      "execution_count": 119,
      "outputs": [
        {
          "output_type": "stream",
          "name": "stdout",
          "text": [
            "+-------------+---------+\n",
            "|    Item Type|Unit Cost|\n",
            "+-------------+---------+\n",
            "|       Cereal|   117.11|\n",
            "|         Meat|   364.69|\n",
            "|    Baby Food|   159.42|\n",
            "|       Fruits|     6.92|\n",
            "|   Vegetables|    90.93|\n",
            "|    Beverages|    31.79|\n",
            "|Personal Care|    56.67|\n",
            "|      Clothes|    35.84|\n",
            "|    Cosmetics|   263.33|\n",
            "|       Snacks|    97.44|\n",
            "+-------------+---------+\n",
            "\n"
          ]
        }
      ]
    },
    {
      "cell_type": "code",
      "source": [
        "question8.toPandas().to_csv('Output/sales/question8',index= False)"
      ],
      "metadata": {
        "id": "SKggfbOpuvgH"
      },
      "execution_count": 120,
      "outputs": []
    },
    {
      "cell_type": "markdown",
      "source": [
        "## 9. Find the total cost, revenue and profit of each year.\n"
      ],
      "metadata": {
        "id": "TOuAtROLYZTp"
      }
    },
    {
      "cell_type": "code",
      "source": [
        "new_df_sales = df_sales.withColumn('Year', F.substring('Order Date', -4, 4))\\\n",
        "\n",
        "question9=new_df_sales.groupBy('Year').agg(F.sum('Total Cost'), F.sum('Total Revenue'), F.sum('Total Profit')).orderBy('Year')\n",
        "question9.show()"
      ],
      "metadata": {
        "colab": {
          "base_uri": "https://localhost:8080/"
        },
        "id": "UFY2P58SYZuj",
        "outputId": "a95d4560-4bc3-4e05-c80e-3afae92f59ad"
      },
      "execution_count": 121,
      "outputs": [
        {
          "output_type": "stream",
          "name": "stdout",
          "text": [
            "+----+--------------------+--------------------+--------------------+\n",
            "|Year|     sum(Total Cost)|  sum(Total Revenue)|   sum(Total Profit)|\n",
            "+----+--------------------+--------------------+--------------------+\n",
            "|2010|1.233298120617372...|1.752972613683793...|  5.19674493173579E9|\n",
            "|2011|1.233635124975034...|1.751684120852689...| 5.180489954286942E9|\n",
            "|2012|1.245034203973387...|1.762118501057573...| 5.170842975163134E9|\n",
            "|2013|1.254475780787666...|1.780262842300091...| 5.257870612787804E9|\n",
            "|2014| 1.26472629863539E10|1.786939230240254...| 5.222129311173204E9|\n",
            "|2015|1.256502197052444...|1.779198425534374...| 5.226962291379013E9|\n",
            "|2016|1.229711736956142...|1.746406771565606...| 5.166950335527011E9|\n",
            "|2017| 7.018850991852474E9|1.000281918959213...|2.9839682052368097E9|\n",
            "+----+--------------------+--------------------+--------------------+\n",
            "\n"
          ]
        }
      ]
    },
    {
      "cell_type": "code",
      "source": [
        "question9.toPandas().to_csv('Output/sales/question9',index= False)"
      ],
      "metadata": {
        "id": "t7gYdOwbu3Z4"
      },
      "execution_count": 122,
      "outputs": []
    }
  ]
}